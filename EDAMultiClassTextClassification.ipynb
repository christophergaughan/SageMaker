{
 "cells": [
  {
   "cell_type": "markdown",
   "id": "da019e0f-44fd-44ee-919f-f847ecce03ff",
   "metadata": {},
   "source": [
    "bucket where data resides (URI) s3://hugging-face-text-multiclass-text-classification-bucket/training_data/newsCorpora.csv"
   ]
  },
  {
   "cell_type": "code",
   "execution_count": 1,
   "id": "95f8df14-8912-44da-b58c-45bf933407c4",
   "metadata": {
    "tags": []
   },
   "outputs": [],
   "source": [
    "s3_path = 's3://hugging-face-text-multiclass-text-classification-bucket/training_data/newsCorpora.csv'"
   ]
  },
  {
   "cell_type": "code",
   "execution_count": 3,
   "id": "f8c5cd46-bd9d-4598-b499-36dcefdacc53",
   "metadata": {
    "tags": []
   },
   "outputs": [],
   "source": [
    "import pandas as pd\n",
    "df = pd.read_csv(s3_path, sep='\\t', names=['ID', 'TITLE', 'URL', 'PUBLISHER', 'CATEGORY', 'STORY', 'HOSTNAME', 'TIMESTAMP'])"
   ]
  },
  {
   "cell_type": "code",
   "execution_count": 4,
   "id": "cad3f1fb-b1df-4f35-b927-f0f0c075cb9d",
   "metadata": {
    "tags": []
   },
   "outputs": [
    {
     "data": {
      "text/html": [
       "<div>\n",
       "<style scoped>\n",
       "    .dataframe tbody tr th:only-of-type {\n",
       "        vertical-align: middle;\n",
       "    }\n",
       "\n",
       "    .dataframe tbody tr th {\n",
       "        vertical-align: top;\n",
       "    }\n",
       "\n",
       "    .dataframe thead th {\n",
       "        text-align: right;\n",
       "    }\n",
       "</style>\n",
       "<table border=\"1\" class=\"dataframe\">\n",
       "  <thead>\n",
       "    <tr style=\"text-align: right;\">\n",
       "      <th></th>\n",
       "      <th>ID</th>\n",
       "      <th>TITLE</th>\n",
       "      <th>URL</th>\n",
       "      <th>PUBLISHER</th>\n",
       "      <th>CATEGORY</th>\n",
       "      <th>STORY</th>\n",
       "      <th>HOSTNAME</th>\n",
       "      <th>TIMESTAMP</th>\n",
       "    </tr>\n",
       "  </thead>\n",
       "  <tbody>\n",
       "    <tr>\n",
       "      <th>0</th>\n",
       "      <td>1</td>\n",
       "      <td>Fed official says weak data caused by weather,...</td>\n",
       "      <td>http://www.latimes.com/business/money/la-fi-mo...</td>\n",
       "      <td>Los Angeles Times</td>\n",
       "      <td>b</td>\n",
       "      <td>ddUyU0VZz0BRneMioxUPQVP6sIxvM</td>\n",
       "      <td>www.latimes.com</td>\n",
       "      <td>1394470370698</td>\n",
       "    </tr>\n",
       "    <tr>\n",
       "      <th>1</th>\n",
       "      <td>2</td>\n",
       "      <td>Fed's Charles Plosser sees high bar for change...</td>\n",
       "      <td>http://www.livemint.com/Politics/H2EvwJSK2VE6O...</td>\n",
       "      <td>Livemint</td>\n",
       "      <td>b</td>\n",
       "      <td>ddUyU0VZz0BRneMioxUPQVP6sIxvM</td>\n",
       "      <td>www.livemint.com</td>\n",
       "      <td>1394470371207</td>\n",
       "    </tr>\n",
       "    <tr>\n",
       "      <th>2</th>\n",
       "      <td>3</td>\n",
       "      <td>US open: Stocks fall after Fed official hints ...</td>\n",
       "      <td>http://www.ifamagazine.com/news/us-open-stocks...</td>\n",
       "      <td>IFA Magazine</td>\n",
       "      <td>b</td>\n",
       "      <td>ddUyU0VZz0BRneMioxUPQVP6sIxvM</td>\n",
       "      <td>www.ifamagazine.com</td>\n",
       "      <td>1394470371550</td>\n",
       "    </tr>\n",
       "    <tr>\n",
       "      <th>3</th>\n",
       "      <td>4</td>\n",
       "      <td>Fed risks falling 'behind the curve', Charles ...</td>\n",
       "      <td>http://www.ifamagazine.com/news/fed-risks-fall...</td>\n",
       "      <td>IFA Magazine</td>\n",
       "      <td>b</td>\n",
       "      <td>ddUyU0VZz0BRneMioxUPQVP6sIxvM</td>\n",
       "      <td>www.ifamagazine.com</td>\n",
       "      <td>1394470371793</td>\n",
       "    </tr>\n",
       "    <tr>\n",
       "      <th>4</th>\n",
       "      <td>5</td>\n",
       "      <td>Fed's Plosser: Nasty Weather Has Curbed Job Gr...</td>\n",
       "      <td>http://www.moneynews.com/Economy/federal-reser...</td>\n",
       "      <td>Moneynews</td>\n",
       "      <td>b</td>\n",
       "      <td>ddUyU0VZz0BRneMioxUPQVP6sIxvM</td>\n",
       "      <td>www.moneynews.com</td>\n",
       "      <td>1394470372027</td>\n",
       "    </tr>\n",
       "  </tbody>\n",
       "</table>\n",
       "</div>"
      ],
      "text/plain": [
       "   ID                                              TITLE   \n",
       "0   1  Fed official says weak data caused by weather,...  \\\n",
       "1   2  Fed's Charles Plosser sees high bar for change...   \n",
       "2   3  US open: Stocks fall after Fed official hints ...   \n",
       "3   4  Fed risks falling 'behind the curve', Charles ...   \n",
       "4   5  Fed's Plosser: Nasty Weather Has Curbed Job Gr...   \n",
       "\n",
       "                                                 URL          PUBLISHER   \n",
       "0  http://www.latimes.com/business/money/la-fi-mo...  Los Angeles Times  \\\n",
       "1  http://www.livemint.com/Politics/H2EvwJSK2VE6O...           Livemint   \n",
       "2  http://www.ifamagazine.com/news/us-open-stocks...       IFA Magazine   \n",
       "3  http://www.ifamagazine.com/news/fed-risks-fall...       IFA Magazine   \n",
       "4  http://www.moneynews.com/Economy/federal-reser...          Moneynews   \n",
       "\n",
       "  CATEGORY                          STORY             HOSTNAME      TIMESTAMP  \n",
       "0        b  ddUyU0VZz0BRneMioxUPQVP6sIxvM      www.latimes.com  1394470370698  \n",
       "1        b  ddUyU0VZz0BRneMioxUPQVP6sIxvM     www.livemint.com  1394470371207  \n",
       "2        b  ddUyU0VZz0BRneMioxUPQVP6sIxvM  www.ifamagazine.com  1394470371550  \n",
       "3        b  ddUyU0VZz0BRneMioxUPQVP6sIxvM  www.ifamagazine.com  1394470371793  \n",
       "4        b  ddUyU0VZz0BRneMioxUPQVP6sIxvM    www.moneynews.com  1394470372027  "
      ]
     },
     "execution_count": 4,
     "metadata": {},
     "output_type": "execute_result"
    }
   ],
   "source": [
    "df.head()"
   ]
  },
  {
   "cell_type": "code",
   "execution_count": 6,
   "id": "f0e4cfa3-9de5-451c-9122-f820d38f2e0a",
   "metadata": {
    "tags": []
   },
   "outputs": [
    {
     "name": "stdout",
     "output_type": "stream",
     "text": [
      "<class 'pandas.core.frame.DataFrame'>\n",
      "RangeIndex: 422419 entries, 0 to 422418\n",
      "Data columns (total 8 columns):\n",
      " #   Column     Non-Null Count   Dtype \n",
      "---  ------     --------------   ----- \n",
      " 0   ID         422419 non-null  int64 \n",
      " 1   TITLE      422419 non-null  object\n",
      " 2   URL        422419 non-null  object\n",
      " 3   PUBLISHER  422417 non-null  object\n",
      " 4   CATEGORY   422419 non-null  object\n",
      " 5   STORY      422419 non-null  object\n",
      " 6   HOSTNAME   422419 non-null  object\n",
      " 7   TIMESTAMP  422419 non-null  int64 \n",
      "dtypes: int64(2), object(6)\n",
      "memory usage: 25.8+ MB\n"
     ]
    }
   ],
   "source": [
    "df.info()"
   ]
  },
  {
   "cell_type": "code",
   "execution_count": 17,
   "id": "20173dc4-5e52-4938-b44b-2cba1e205101",
   "metadata": {
    "tags": []
   },
   "outputs": [],
   "source": [
    "df_work = df.copy()"
   ]
  },
  {
   "cell_type": "code",
   "execution_count": 18,
   "id": "d4eed2e6-3ca8-4070-89d2-4f1a79151cee",
   "metadata": {
    "tags": []
   },
   "outputs": [],
   "source": [
    "df_work=df_work[['TITLE', 'CATEGORY']]"
   ]
  },
  {
   "cell_type": "code",
   "execution_count": 19,
   "id": "11c363c0-a08c-4792-a8e4-3d1394f94c2d",
   "metadata": {
    "tags": []
   },
   "outputs": [
    {
     "data": {
      "text/html": [
       "<div>\n",
       "<style scoped>\n",
       "    .dataframe tbody tr th:only-of-type {\n",
       "        vertical-align: middle;\n",
       "    }\n",
       "\n",
       "    .dataframe tbody tr th {\n",
       "        vertical-align: top;\n",
       "    }\n",
       "\n",
       "    .dataframe thead th {\n",
       "        text-align: right;\n",
       "    }\n",
       "</style>\n",
       "<table border=\"1\" class=\"dataframe\">\n",
       "  <thead>\n",
       "    <tr style=\"text-align: right;\">\n",
       "      <th></th>\n",
       "      <th>TITLE</th>\n",
       "      <th>CATEGORY</th>\n",
       "    </tr>\n",
       "  </thead>\n",
       "  <tbody>\n",
       "    <tr>\n",
       "      <th>0</th>\n",
       "      <td>Fed official says weak data caused by weather,...</td>\n",
       "      <td>b</td>\n",
       "    </tr>\n",
       "    <tr>\n",
       "      <th>1</th>\n",
       "      <td>Fed's Charles Plosser sees high bar for change...</td>\n",
       "      <td>b</td>\n",
       "    </tr>\n",
       "    <tr>\n",
       "      <th>2</th>\n",
       "      <td>US open: Stocks fall after Fed official hints ...</td>\n",
       "      <td>b</td>\n",
       "    </tr>\n",
       "    <tr>\n",
       "      <th>3</th>\n",
       "      <td>Fed risks falling 'behind the curve', Charles ...</td>\n",
       "      <td>b</td>\n",
       "    </tr>\n",
       "    <tr>\n",
       "      <th>4</th>\n",
       "      <td>Fed's Plosser: Nasty Weather Has Curbed Job Gr...</td>\n",
       "      <td>b</td>\n",
       "    </tr>\n",
       "    <tr>\n",
       "      <th>...</th>\n",
       "      <td>...</td>\n",
       "      <td>...</td>\n",
       "    </tr>\n",
       "    <tr>\n",
       "      <th>422414</th>\n",
       "      <td>Surgeons to remove 4-year-old's rib to rebuild...</td>\n",
       "      <td>m</td>\n",
       "    </tr>\n",
       "    <tr>\n",
       "      <th>422415</th>\n",
       "      <td>Boy to have surgery on esophagus after battery...</td>\n",
       "      <td>m</td>\n",
       "    </tr>\n",
       "    <tr>\n",
       "      <th>422416</th>\n",
       "      <td>Child who swallowed battery to have reconstruc...</td>\n",
       "      <td>m</td>\n",
       "    </tr>\n",
       "    <tr>\n",
       "      <th>422417</th>\n",
       "      <td>Phoenix boy undergoes surgery to repair throat...</td>\n",
       "      <td>m</td>\n",
       "    </tr>\n",
       "    <tr>\n",
       "      <th>422418</th>\n",
       "      <td>Phoenix boy undergoes surgery to repair throat...</td>\n",
       "      <td>m</td>\n",
       "    </tr>\n",
       "  </tbody>\n",
       "</table>\n",
       "<p>422419 rows × 2 columns</p>\n",
       "</div>"
      ],
      "text/plain": [
       "                                                    TITLE CATEGORY\n",
       "0       Fed official says weak data caused by weather,...        b\n",
       "1       Fed's Charles Plosser sees high bar for change...        b\n",
       "2       US open: Stocks fall after Fed official hints ...        b\n",
       "3       Fed risks falling 'behind the curve', Charles ...        b\n",
       "4       Fed's Plosser: Nasty Weather Has Curbed Job Gr...        b\n",
       "...                                                   ...      ...\n",
       "422414  Surgeons to remove 4-year-old's rib to rebuild...        m\n",
       "422415  Boy to have surgery on esophagus after battery...        m\n",
       "422416  Child who swallowed battery to have reconstruc...        m\n",
       "422417  Phoenix boy undergoes surgery to repair throat...        m\n",
       "422418  Phoenix boy undergoes surgery to repair throat...        m\n",
       "\n",
       "[422419 rows x 2 columns]"
      ]
     },
     "execution_count": 19,
     "metadata": {},
     "output_type": "execute_result"
    }
   ],
   "source": [
    "df_work"
   ]
  },
  {
   "cell_type": "code",
   "execution_count": 20,
   "id": "3cd300c6-2696-4f09-9ed5-386b9da34418",
   "metadata": {
    "tags": []
   },
   "outputs": [],
   "source": [
    "my_dict = {\n",
    "    'e':'Entertainment',\n",
    "    'b':'Business',\n",
    "    't':'Science',\n",
    "    'm':'Health'\n",
    "}"
   ]
  },
  {
   "cell_type": "code",
   "execution_count": 21,
   "id": "6fbc54e4-8dd7-435f-b73a-d2dda65be267",
   "metadata": {
    "tags": []
   },
   "outputs": [],
   "source": [
    "# Change the 'CATEGORY' columns' cryptic symbols to accord with more readable dictionary. x in the function represents symbols\n",
    "def update_category(x):\n",
    "    return my_dict[x]"
   ]
  },
  {
   "cell_type": "code",
   "execution_count": 22,
   "id": "23dfbee6-8b4a-4b19-92a0-7dd0c29a4327",
   "metadata": {
    "tags": []
   },
   "outputs": [
    {
     "name": "stdout",
     "output_type": "stream",
     "text": [
      "                                                    TITLE  CATEGORY\n",
      "0       Fed official says weak data caused by weather,...  Business\n",
      "1       Fed's Charles Plosser sees high bar for change...  Business\n",
      "2       US open: Stocks fall after Fed official hints ...  Business\n",
      "3       Fed risks falling 'behind the curve', Charles ...  Business\n",
      "4       Fed's Plosser: Nasty Weather Has Curbed Job Gr...  Business\n",
      "...                                                   ...       ...\n",
      "422414  Surgeons to remove 4-year-old's rib to rebuild...    Health\n",
      "422415  Boy to have surgery on esophagus after battery...    Health\n",
      "422416  Child who swallowed battery to have reconstruc...    Health\n",
      "422417  Phoenix boy undergoes surgery to repair throat...    Health\n",
      "422418  Phoenix boy undergoes surgery to repair throat...    Health\n",
      "\n",
      "[422419 rows x 2 columns]\n",
      "['Business' 'Science' 'Entertainment' 'Health']\n"
     ]
    }
   ],
   "source": [
    "# Update the CATEGORY column\n",
    "df_work['CATEGORY'] = df_work['CATEGORY'].apply(lambda x: update_category(x))\n",
    "\n",
    "# Display the updated DataFrame\n",
    "print(df_work)\n",
    "\n",
    "# Optionally, to see the unique values in the CATEGORY column:\n",
    "unique_names = df_work['CATEGORY'].unique()\n",
    "print(unique_names)\n"
   ]
  },
  {
   "cell_type": "code",
   "execution_count": 24,
   "id": "988c8967-a5a3-48d6-ab3c-2b20edef12a6",
   "metadata": {
    "tags": []
   },
   "outputs": [
    {
     "name": "stdout",
     "output_type": "stream",
     "text": [
      "Your iPad may be giving you a rash\n"
     ]
    }
   ],
   "source": [
    "import random\n",
    "\n",
    "def get_random_title_by_category(category):\n",
    "    filtered_df = df_work[df_work['CATEGORY']==category]\n",
    "    \n",
    "    return filtered_df['TITLE'].sample().values[0]\n",
    "\n",
    "category= 'Health'\n",
    "\n",
    "random_title = get_random_title_by_category(category)\n",
    "\n",
    "print(random_title)\n",
    "                          "
   ]
  },
  {
   "cell_type": "code",
   "execution_count": 27,
   "id": "69b45af4-d596-40f5-aa1c-87e08b3b5e1b",
   "metadata": {
    "tags": []
   },
   "outputs": [
    {
     "data": {
      "image/png": "[encoded data removed]",
      "text/plain": [
       "<Figure size 1000x600 with 1 Axes>"
      ]
     },
     "metadata": {},
     "output_type": "display_data"
    }
   ],
   "source": [
    "import seaborn as sns\n",
    "import matplotlib.pyplot as plt\n",
    "\n",
    "# Make bar chart\n",
    "plt.figure(figsize=(10,6))\n",
    "sns.countplot(data=df_work, x='CATEGORY', order=df_work['CATEGORY'].value_counts().index)\n",
    "plt.title('Distributon of \"CATEGORY\"')\n",
    "plt.xticks(rotation=45)\n",
    "plt.show()"
   ]
  },
  {
   "cell_type": "code",
   "execution_count": 30,
   "id": "9bfdd168-cccd-4b60-a9db-3d9e8c67ee73",
   "metadata": {
    "tags": []
   },
   "outputs": [
    {
     "data": {
      "image/png": "[encoded data removed]",
      "text/plain": [
       "<Figure size 800x800 with 1 Axes>"
      ]
     },
     "metadata": {},
     "output_type": "display_data"
    }
   ],
   "source": [
    "# Make pie-chart\n",
    "category_counts=df_work['CATEGORY'].value_counts()\n",
    "plt.figure(figsize=(8,8))\n",
    "plt.pie(category_counts,labels=category_counts.index,autopct='%1.1f%%',startangle=140)\n",
    "plt.title(\"Proportion of each Catgeory\")\n",
    "plt.show()\n",
    "          \n",
    "          "
   ]
  },
  {
   "cell_type": "markdown",
   "id": "4012f385-df5f-4e84-a71b-a692cdbb8eea",
   "metadata": {},
   "source": [
    "## Save notebook in s3 bucket\n",
    "save money by not having the domain constantly open if there are breaks between days"
   ]
  },
  {
   "cell_type": "code",
   "execution_count": 34,
   "id": "7dff0515-7b2c-4913-adc4-2a39d6548828",
   "metadata": {
    "tags": []
   },
   "outputs": [
    {
     "name": "stdout",
     "output_type": "stream",
     "text": [
      "Notebook EDAMultiClassTextClassification.ipynb has been uploaded to S3 bucket \"hugging-face-text-multiclass-text-classification-bucket\" under \"training_data/notebooks\" folder.\n"
     ]
    }
   ],
   "source": [
    "import boto3\n",
    "\n",
    "# Initialize the S3 client\n",
    "s3 = boto3.client('s3')\n",
    "\n",
    "# Define bucket name and file path\n",
    "bucket_name = 'hugging-face-text-multiclass-text-classification-bucket'\n",
    "notebook_path = '/root/EDAMultiClassTextClassification.ipynb'  # Updated with the correct path\n",
    "notebook_name = notebook_path.split('/')[-1]   # Extracts file name, e.g., \"EDAMultiClassTextClassification.ipynb\"\n",
    "\n",
    "# Upload the notebook file to S3\n",
    "s3.upload_file(notebook_path, bucket_name, f'training_data/notebooks/{notebook_name}')\n",
    "\n",
    "print(f'Notebook {notebook_name} has been uploaded to S3 bucket \\\"{bucket_name}\\\" under \\\"training_data/notebooks\\\" folder.')\n"
   ]
  },
  {
   "cell_type": "code",
   "execution_count": 32,
   "id": "9cfec447-3288-41b3-adb0-94206d2e8f59",
   "metadata": {
    "tags": []
   },
   "outputs": [
    {
     "name": "stdout",
     "output_type": "stream",
     "text": [
      "/root\n"
     ]
    }
   ],
   "source": [
    "!pwd\n"
   ]
  },
  {
   "cell_type": "code",
   "execution_count": 33,
   "id": "fdf3c75d-a545-4002-a71e-815f40617fb8",
   "metadata": {
    "tags": []
   },
   "outputs": [
    {
     "name": "stdout",
     "output_type": "stream",
     "text": [
      "/root:\n",
      "EDAMultiClassTextClassification.ipynb\n"
     ]
    }
   ],
   "source": [
    "!ls -R /root\n"
   ]
  },
  {
   "cell_type": "code",
   "execution_count": null,
   "id": "4d6f819e-6963-4a1f-b36f-090a5c9c009f",
   "metadata": {},
   "outputs": [],
   "source": []
  }
 ],
 "metadata": {
  "instance_type": "ml.g4dn.xlarge",
  "kernelspec": {
   "display_name": "Python 3 (PyTorch 2.0.0 Python 3.10 GPU Optimized)",
   "language": "python",
   "name": "python3__SAGEMAKER_INTERNAL__arn:aws:sagemaker:us-east-1:081325390199:image/pytorch-2.0.0-gpu-py310"
  },
  "language_info": {
   "codemirror_mode": {
    "name": "ipython",
    "version": 3
   },
   "file_extension": ".py",
   "mimetype": "text/x-python",
   "name": "python",
   "nbconvert_exporter": "python",
   "pygments_lexer": "ipython3",
   "version": "3.10.8"
  }
 },
 "nbformat": 4,
 "nbformat_minor": 5
}
