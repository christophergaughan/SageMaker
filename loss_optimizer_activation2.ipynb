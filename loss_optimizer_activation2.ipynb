{
 "cells": [
  {
   "cell_type": "code",
   "execution_count": 2,
   "id": "initial_id",
   "metadata": {
    "collapsed": true,
    "ExecuteTime": {
     "end_time": "2024-02-04T00:36:57.255507Z",
     "start_time": "2024-02-04T00:36:57.249632Z"
    }
   },
   "outputs": [
    {
     "data": {
      "text/plain": "<IPython.core.display.HTML object>",
      "text/html": "\n<style>\n    table {\n      border: 1px solid black;\n      border-collapse: collapse;\n      table-layout: fixed; /* Ensure the table layout respects the width settings */\n      width: 100%; /* Adjust the table width as needed */\n    }\n    th, td {\n      border: 1px solid black;\n      padding: 10px;\n      text-align: left;\n      word-wrap: break-word; /* Ensure long words can wrap and do not overflow their container */\n      word-break: break-all; /* Break words at any character to prevent overflow */\n      max-width: 200px; /* You can adjust max width for better control */\n    }\n</style>\n<table border=\"1\" class=\"dataframe\">\n  <thead>\n    <tr style=\"text-align: right;\">\n      <th></th>\n      <th>Loss Function</th>\n      <th>Usage</th>\n      <th>Why Used</th>\n    </tr>\n  </thead>\n  <tbody>\n    <tr>\n      <th>0</th>\n      <td>Mean Squared Error (MSE)</td>\n      <td>Regression problems.</td>\n      <td>Measures the average of the squares of the errors between actual and predicted values. Good for ensuring small errors are not ignored.</td>\n    </tr>\n    <tr>\n      <th>1</th>\n      <td>Categorical Crossentropy</td>\n      <td>Multi-class classification problems.</td>\n      <td>Measures the difference between two probability distributions - the actual labels and the predicted labels.</td>\n    </tr>\n    <tr>\n      <th>2</th>\n      <td>Binary Crossentropy</td>\n      <td>Binary classification problems.</td>\n      <td>Special case of categorical crossentropy for two-class problems. Suitable for measuring the error in classification tasks with two classes.</td>\n    </tr>\n    <tr>\n      <th>3</th>\n      <td>Sparse Categorical Crossentropy</td>\n      <td>Multi-class classification tasks with many classes.</td>\n      <td>Useful when the classes are mutually exclusive, and the labels are sparse (i.e., each label is a large array with a single non-zero element).</td>\n    </tr>\n    <tr>\n      <th>4</th>\n      <td>Hinge Loss</td>\n      <td>\"Maximum-margin\" classification, mostly used for Support Vector Machines (SVMs).</td>\n      <td>Encourages the model to correctly classify data while maintaining a large margin between data points and the decision boundary.</td>\n    </tr>\n  </tbody>\n</table>"
     },
     "execution_count": 2,
     "metadata": {},
     "output_type": "execute_result"
    }
   ],
   "source": [
    "import pandas as pd\n",
    "from IPython.display import HTML\n",
    "\n",
    "# Your DataFrame\n",
    "data_loss_functions = {\n",
    "    \"Loss Function\": [\"Mean Squared Error (MSE)\", \"Categorical Crossentropy\", \"Binary Crossentropy\", \"Sparse Categorical Crossentropy\", \"Hinge Loss\"],\n",
    "    \"Usage\": [\n",
    "        \"Regression problems.\",\n",
    "        \"Multi-class classification problems.\",\n",
    "        \"Binary classification problems.\",\n",
    "        \"Multi-class classification tasks with many classes.\",\n",
    "        \"\\\"Maximum-margin\\\" classification, mostly used for Support Vector Machines (SVMs).\"\n",
    "    ],\n",
    "    \"Why Used\": [\n",
    "        \"Measures the average of the squares of the errors between actual and predicted values. Good for ensuring small errors are not ignored.\",\n",
    "        \"Measures the difference between two probability distributions - the actual labels and the predicted labels.\",\n",
    "        \"Special case of categorical crossentropy for two-class problems. Suitable for measuring the error in classification tasks with two classes.\",\n",
    "        \"Useful when the classes are mutually exclusive, and the labels are sparse (i.e., each label is a large array with a single non-zero element).\",\n",
    "        \"Encourages the model to correctly classify data while maintaining a large margin between data points and the decision boundary.\"\n",
    "    ]\n",
    "}\n",
    "\n",
    "df_loss_functions = pd.DataFrame(data_loss_functions)\n",
    "\n",
    "# Convert DataFrame to HTML\n",
    "html = df_loss_functions.to_html(escape=False)\n",
    "\n",
    "# Enhanced CSS to ensure table layout, text wrapping, and word breaking\n",
    "html_style = \"\"\"\n",
    "<style>\n",
    "    table {\n",
    "      border: 1px solid black;\n",
    "      border-collapse: collapse;\n",
    "      table-layout: fixed; /* Ensure the table layout respects the width settings */\n",
    "      width: 100%; /* Adjust the table width as needed */\n",
    "    }\n",
    "    th, td {\n",
    "      border: 1px solid black;\n",
    "      padding: 10px;\n",
    "      text-align: left;\n",
    "      word-wrap: break-word; /* Ensure long words can wrap and do not overflow their container */\n",
    "      word-break: break-all; /* Break words at any character to prevent overflow */\n",
    "      max-width: 200px; /* You can adjust max width for better control */\n",
    "    }\n",
    "</style>\n",
    "\"\"\" + html\n",
    "\n",
    "# Display HTML with style\n",
    "HTML(html_style)\n",
    "\n"
   ]
  },
  {
   "cell_type": "code",
   "outputs": [
    {
     "data": {
      "text/plain": "                     Loss Function  \\\n0         Mean Squared Error (MSE)   \n1         Categorical Crossentropy   \n2              Binary Crossentropy   \n3  Sparse Categorical Crossentropy   \n4                       Hinge Loss   \n\n                                               Usage  \\\n0                               Regression problems.   \n1               Multi-class classification problems.   \n2                    Binary classification problems.   \n3  Multi-class classification tasks with many\\ncl...   \n4  \"Maximum-margin\" classification, mostly used f...   \n\n                                            Why Used  \n0  Measures the average of the squares of the err...  \n1  Measures the difference between two probabilit...  \n2  Special case of categorical crossentropy for t...  \n3  Useful when the classes are mutually exclusive...  \n4  Encourages the model to correctly classify dat...  ",
      "text/html": "<div>\n<style scoped>\n    .dataframe tbody tr th:only-of-type {\n        vertical-align: middle;\n    }\n\n    .dataframe tbody tr th {\n        vertical-align: top;\n    }\n\n    .dataframe thead th {\n        text-align: right;\n    }\n</style>\n<table border=\"1\" class=\"dataframe\">\n  <thead>\n    <tr style=\"text-align: right;\">\n      <th></th>\n      <th>Loss Function</th>\n      <th>Usage</th>\n      <th>Why Used</th>\n    </tr>\n  </thead>\n  <tbody>\n    <tr>\n      <th>0</th>\n      <td>Mean Squared Error (MSE)</td>\n      <td>Regression problems.</td>\n      <td>Measures the average of the squares of the err...</td>\n    </tr>\n    <tr>\n      <th>1</th>\n      <td>Categorical Crossentropy</td>\n      <td>Multi-class classification problems.</td>\n      <td>Measures the difference between two probabilit...</td>\n    </tr>\n    <tr>\n      <th>2</th>\n      <td>Binary Crossentropy</td>\n      <td>Binary classification problems.</td>\n      <td>Special case of categorical crossentropy for t...</td>\n    </tr>\n    <tr>\n      <th>3</th>\n      <td>Sparse Categorical Crossentropy</td>\n      <td>Multi-class classification tasks with many\\ncl...</td>\n      <td>Useful when the classes are mutually exclusive...</td>\n    </tr>\n    <tr>\n      <th>4</th>\n      <td>Hinge Loss</td>\n      <td>\"Maximum-margin\" classification, mostly used f...</td>\n      <td>Encourages the model to correctly classify dat...</td>\n    </tr>\n  </tbody>\n</table>\n</div>"
     },
     "execution_count": 3,
     "metadata": {},
     "output_type": "execute_result"
    }
   ],
   "source": [
    "import pandas as pd\n",
    "import textwrap\n",
    "\n",
    "# Function to wrap text in DataFrame cells\n",
    "def wrap_text(df, width=50):\n",
    "    for col in df.columns:\n",
    "        df[col] = df[col].apply(lambda x: '\\n'.join(textwrap.wrap(x, width=width)))\n",
    "    return df\n",
    "\n",
    "# Your DataFrame\n",
    "data_loss_functions = {\n",
    "    \"Loss Function\": [\"Mean Squared Error (MSE)\", \"Categorical Crossentropy\", \"Binary Crossentropy\", \"Sparse Categorical Crossentropy\", \"Hinge Loss\"],\n",
    "    \"Usage\": [\n",
    "        \"Regression problems.\",\n",
    "        \"Multi-class classification problems.\",\n",
    "        \"Binary classification problems.\",\n",
    "        \"Multi-class classification tasks with many classes.\",\n",
    "        \"\\\"Maximum-margin\\\" classification, mostly used for Support Vector Machines (SVMs).\"\n",
    "    ],\n",
    "    \"Why Used\": [\n",
    "        \"Measures the average of the squares of the errors between actual and predicted values. Good for ensuring small errors are not ignored.\",\n",
    "        \"Measures the difference between two probability distributions - the actual labels and the predicted labels.\",\n",
    "        \"Special case of categorical crossentropy for two-class problems. Suitable for measuring the error in classification tasks with two classes.\",\n",
    "        \"Useful when the classes are mutually exclusive, and the labels are sparse (i.e., each label is a large array with a single non-zero element).\",\n",
    "        \"Encourages the model to correctly classify data while maintaining a large margin between data points and the decision boundary.\"\n",
    "    ]\n",
    "}\n",
    "\n",
    "df_loss_functions = pd.DataFrame(data_loss_functions)\n",
    "\n",
    "# Wrap text for each cell in DataFrame\n",
    "df_wrapped = wrap_text(df_loss_functions, width=50)  # Adjust 'width' as needed\n",
    "\n",
    "# Display DataFrame\n",
    "df_wrapped\n"
   ],
   "metadata": {
    "collapsed": false,
    "ExecuteTime": {
     "end_time": "2024-02-04T00:39:31.562613Z",
     "start_time": "2024-02-04T00:39:31.554550Z"
    }
   },
   "id": "e8f4ea3294c47747",
   "execution_count": 3
  },
  {
   "cell_type": "code",
   "outputs": [],
   "source": [],
   "metadata": {
    "collapsed": false
   },
   "id": "9e29a12253ae39f8"
  }
 ],
 "metadata": {
  "kernelspec": {
   "display_name": "Python 3",
   "language": "python",
   "name": "python3"
  },
  "language_info": {
   "codemirror_mode": {
    "name": "ipython",
    "version": 2
   },
   "file_extension": ".py",
   "mimetype": "text/x-python",
   "name": "python",
   "nbconvert_exporter": "python",
   "pygments_lexer": "ipython2",
   "version": "2.7.6"
  }
 },
 "nbformat": 4,
 "nbformat_minor": 5
}
